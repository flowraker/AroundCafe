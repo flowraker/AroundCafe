{
 "cells": [
  {
   "cell_type": "code",
   "execution_count": 14,
   "metadata": {
    "collapsed": true
   },
   "outputs": [
    {
     "name": "stdout",
     "output_type": "stream",
     "text": [
      "1\n",
      "1\n",
      "{'payment_no': 10, 'created_time': datetime.datetime(2022, 7, 13, 0, 46, 57, 975969), 'updated_time': datetime.datetime(2022, 7, 13, 0, 46, 57, 975969), 'cafe_no': 1, 'ex_payment_no': None, 'item_init_name': '124 외 2개', 'payment_date': datetime.datetime(2022, 5, 13, 0, 46, 58, 350000), 'payment_method': 'KAKAO', 'payment_status': 2, 'total_amount': 17000, 'total_point_amount': 17000, 'total_quantity': 3, 'mem_no': 1}\n"
     ]
    }
   ],
   "source": [
    "import pymysql\n",
    "\n",
    "db = pymysql.connect(\n",
    "    host='localhost',\n",
    "    port=3306,\n",
    "    user='eddi',\n",
    "    passwd='eddi@123',\n",
    "    db='around_cafe'\n",
    "        )\n",
    "\n",
    "cursor = db.cursor()\n",
    "\n",
    "sql = \"\"\"\n",
    "        select * from payment where payment_no = '%s'\n",
    "        \"\"\" % 10\n",
    "\n",
    "cursor.execute(sql)\n",
    "field_names = [i[0] for i in cursor.description]\n",
    "payment = dict(zip(field_names, cursor.fetchone()))\n",
    "\n",
    "memNo = payment['mem_no']\n",
    "cafeNo = payment['cafe_no']\n",
    "\n",
    "db.commit()\n",
    "db.close()\n",
    "\n",
    "print(payment)"
   ]
  }
 ],
 "metadata": {
  "kernelspec": {
   "display_name": "Python 3.10.4 ('main')",
   "language": "python",
   "name": "python3"
  },
  "language_info": {
   "codemirror_mode": {
    "name": "ipython",
    "version": 3
   },
   "file_extension": ".py",
   "mimetype": "text/x-python",
   "name": "python",
   "nbconvert_exporter": "python",
   "pygments_lexer": "ipython3",
   "version": "3.10.4"
  },
  "vscode": {
   "interpreter": {
    "hash": "cb3522128893b7aa9d79881cd6cf3c35eaad8688d4c7f9e187d1596aaf1e897c"
   }
  }
 },
 "nbformat": 4,
 "nbformat_minor": 0
}
